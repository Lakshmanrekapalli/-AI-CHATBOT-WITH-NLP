{
 "cells": [
  {
   "cell_type": "code",
   "execution_count": 1,
   "id": "10ebf72c-8ea5-4180-aaaf-56444616c36f",
   "metadata": {},
   "outputs": [
    {
     "name": "stdout",
     "output_type": "stream",
     "text": [
      "Requirement already satisfied: nltk in c:\\users\\admin\\anaconda3\\lib\\site-packages (3.8.1)\n",
      "Requirement already satisfied: click in c:\\users\\admin\\anaconda3\\lib\\site-packages (from nltk) (8.1.7)\n",
      "Requirement already satisfied: joblib in c:\\users\\admin\\anaconda3\\lib\\site-packages (from nltk) (1.4.2)\n",
      "Requirement already satisfied: regex>=2021.8.3 in c:\\users\\admin\\anaconda3\\lib\\site-packages (from nltk) (2023.10.3)\n",
      "Requirement already satisfied: tqdm in c:\\users\\admin\\anaconda3\\lib\\site-packages (from nltk) (4.66.4)\n",
      "Requirement already satisfied: colorama in c:\\users\\admin\\anaconda3\\lib\\site-packages (from click->nltk) (0.4.6)\n"
     ]
    }
   ],
   "source": [
    "!pip install nltk"
   ]
  },
  {
   "cell_type": "code",
   "execution_count": 2,
   "id": "5acf166b-894e-4d40-8b9d-d417bb31a2b8",
   "metadata": {},
   "outputs": [
    {
     "name": "stdout",
     "output_type": "stream",
     "text": [
      "AI Chatbot: Type 'exit' to stop.\n"
     ]
    },
    {
     "name": "stdin",
     "output_type": "stream",
     "text": [
      "You:  HELLO\n"
     ]
    },
    {
     "name": "stdout",
     "output_type": "stream",
     "text": [
      "AI Chatbot: Hey there!\n"
     ]
    },
    {
     "name": "stdin",
     "output_type": "stream",
     "text": [
      "You:  HOW ARE YOU\n"
     ]
    },
    {
     "name": "stdout",
     "output_type": "stream",
     "text": [
      "AI Chatbot: I'm just a chatbot, but I'm doing great! How about you?\n"
     ]
    },
    {
     "name": "stdin",
     "output_type": "stream",
     "text": [
      "You:  I AM FINE \n"
     ]
    },
    {
     "name": "stdout",
     "output_type": "stream",
     "text": [
      "AI Chatbot: I didn't understand that. Try again!\n"
     ]
    },
    {
     "name": "stdin",
     "output_type": "stream",
     "text": [
      "You:  EXIT\n"
     ]
    },
    {
     "name": "stdout",
     "output_type": "stream",
     "text": [
      "AI Chatbot: Goodbye!\n"
     ]
    }
   ],
   "source": [
    "import nltk\n",
    "from nltk.chat.util import Chat, reflections\n",
    "import random\n",
    "\n",
    "# -------------------------\n",
    "# Step 1: Define Chatbot Responses\n",
    "# -------------------------\n",
    "\n",
    "pairs = [\n",
    "    [\"hello|hi|hey\", [\"Hello!\", \"Hey there!\", \"Hi! How can I help you?\"]],\n",
    "    [\"how are you?\", [\"I'm just a chatbot, but I'm doing great! How about you?\"]],\n",
    "    [\"what is your name?\", [\"I'm an AI chatbot built with Python!\"]],\n",
    "    [\"what can you do?\", [\n",
    "        \"I can answer basic questions, chat with you, and help with Python-related queries!\",\n",
    "        \"I can provide information, guide you through coding tasks, and make conversations more engaging.\"\n",
    "    ]],\n",
    "    [\"tell me a joke\", [\n",
    "        \"Why did the programmer quit his job? Because he didn’t get arrays!\",\n",
    "        \"I told my computer I needed a break… now it won’t stop sending me error messages!\"\n",
    "    ]],\n",
    "    [\"exit|bye\", [\"Goodbye!\", \"Have a great day!\", \"See you soon!\"]],\n",
    "]\n",
    "\n",
    "# -------------------------\n",
    "# Step 2: Create Chatbot Instance\n",
    "# -------------------------\n",
    "\n",
    "chatbot = Chat(pairs, reflections)\n",
    "\n",
    "# -------------------------\n",
    "# Step 3: Chatbot Conversation Loop\n",
    "# -------------------------\n",
    "\n",
    "def chatbot_response():\n",
    "    print(\"AI Chatbot: Type 'exit' to stop.\")\n",
    "    while True:\n",
    "        user_input = input(\"You: \").lower()\n",
    "        response = chatbot.respond(user_input)\n",
    "        \n",
    "        if user_input in [\"exit\", \"bye\"]:\n",
    "            print(\"AI Chatbot: Goodbye!\")\n",
    "            break\n",
    "        elif response:\n",
    "            print(\"AI Chatbot:\", response)\n",
    "        else:\n",
    "            print(\"AI Chatbot: I didn't understand that. Try again!\")\n",
    "\n",
    "# Run chatbot\n",
    "chatbot_response()"
   ]
  },
  {
   "cell_type": "code",
   "execution_count": null,
   "id": "e74b1d77-056a-414b-8086-5bb481e97de9",
   "metadata": {},
   "outputs": [],
   "source": []
  }
 ],
 "metadata": {
  "kernelspec": {
   "display_name": "Python 3 (ipykernel)",
   "language": "python",
   "name": "python3"
  },
  "language_info": {
   "codemirror_mode": {
    "name": "ipython",
    "version": 3
   },
   "file_extension": ".py",
   "mimetype": "text/x-python",
   "name": "python",
   "nbconvert_exporter": "python",
   "pygments_lexer": "ipython3",
   "version": "3.12.4"
  }
 },
 "nbformat": 4,
 "nbformat_minor": 5
}
